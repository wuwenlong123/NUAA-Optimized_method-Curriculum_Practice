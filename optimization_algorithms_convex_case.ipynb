{
 "cells": [
  {
   "cell_type": "markdown",
   "metadata": {},
   "source": [
    "# solve min (||Ax-b||**2) / n"
   ]
  },
  {
   "cell_type": "code",
   "execution_count": 29,
   "metadata": {},
   "outputs": [
    {
     "data": {
      "text/plain": [
       "<torch._C.Generator at 0x182a04ccdd0>"
      ]
     },
     "execution_count": 29,
     "metadata": {},
     "output_type": "execute_result"
    }
   ],
   "source": [
    "import torch\n",
    "import torchvision\n",
    "import torchvision.transforms as transforms\n",
    "from torch.autograd import Variable, grad\n",
    "import torch.nn as nn\n",
    "import torch.nn.functional as F\n",
    "import torch.optim as optim\n",
    "import random\n",
    "import matplotlib.pyplot as plt\n",
    "import numpy as np\n",
    "import time\n",
    "import copy\n",
    "torch.manual_seed(0)"
   ]
  },
  {
   "cell_type": "code",
   "execution_count": 30,
   "metadata": {
    "collapsed": true
   },
   "outputs": [],
   "source": [
    "def initialize_para(nn, val):\n",
    "\tfor para in nn.parameters():\n",
    "\t\tpara.data.fill_(val)\n",
    "\treturn nn"
   ]
  },
  {
   "cell_type": "code",
   "execution_count": 31,
   "metadata": {
    "collapsed": true
   },
   "outputs": [],
   "source": [
    "class Model(nn.Module):\n",
    "    '''Docstring fot the min{x}||A*x - b||**2 problem'''\n",
    "    def __init__(self, n_samples, n_features):\n",
    "        super(Model, self).__init__()\n",
    "        self.n_samples = n_samples\n",
    "        self.n_features = n_features\n",
    "        self.A = Variable(torch.randn(n_samples, n_features), requires_grad = False)\n",
    "        self.b = Variable(torch.randn(n_samples, 1), requires_grad = False)\n",
    "        self.w = nn.Parameter(torch.zeros(n_features, 1), requires_grad=True)\n",
    "    \n",
    "    def forward(self):\n",
    "        '''Compute the function A*x'''\n",
    "        return torch.mm(self.A, self.w)\n",
    "    \n",
    "    def full_loss_grad(self, criterion):\n",
    "        '''Compute the gradient norm and the full loss'''\n",
    "        grad = 0\n",
    "        output = self.forward()\n",
    "        loss = criterion(output, self.b)\n",
    "        loss.backward()\n",
    "        for para in self.parameters():\n",
    "            grad += para.grad.data.norm(2)**2\n",
    "        return loss.data.item(), (1./self.n_samples) * np.sqrt(grad)\n",
    "\n",
    "\n",
    "    def partial_grad(self, criterion):\n",
    "        '''Compute partial gradient of f'''\n",
    "        i = np.random.randint(0, len(self.b))\n",
    "        output = self.forward()\n",
    "        loss = criterion(output[i], self.b[i])\n",
    "        loss.backward()\n",
    "        return i, loss\n",
    "    \n",
    "    def grad(self, criterion):\n",
    "        '''compute the gradient'''\n",
    "        output = self.forward()\n",
    "        loss = criterion(output, self.b)\n",
    "        loss.backward()\n",
    "        return loss\n",
    "    \n",
    "    ##########GD Methodes\n",
    "\n",
    "    def gd_backward(self, criterion, max_iter, lr):\n",
    "        '''\n",
    "        Compute the gd algorithm\n",
    "        inputs : neural net, loss_function, number of epochs, learning rate\n",
    "        goal : get a minimum\n",
    "        return : total_loss_epoch, grad_norm_epoch\n",
    "        '''\n",
    "        total_loss_epoch = [0 for i in range(n_epoch)]\n",
    "        grad_norm_epoch = [0 for i in range(n_epoch)]\n",
    "        for epoch in range(n_epoch):\n",
    "            #Compute full grad\n",
    "            self.zero_grad() # grad = 0\n",
    "            total_loss_epoch[epoch], grad_norm_epoch[epoch] = self.full_loss_grad(criterion)\n",
    "            for i_data in range(self.n_samples):\n",
    "                self.zero_grad()\n",
    "                _ = self.grad(criterion)\n",
    "                for para in self.parameters():\n",
    "                    para.data -= lr * para.grad.data\n",
    "\n",
    "        return total_loss_epoch, grad_norm_epoch\n",
    "\n",
    "\n",
    "    ###########SGD Methodes\n",
    "\n",
    "    \n",
    "    def sgd_backward(self, criterion, max_iter, lr):\n",
    "        '''\n",
    "        Compute the sgd algorithm\n",
    "        inputs : neural net, loss_function, number of epochs, learning rate\n",
    "        goal : get a minimum\n",
    "        return : total_loss_epoch, grad_norm_epoch\n",
    "        '''\n",
    "        total_loss_epoch = [0 for i in range(n_epoch)]\n",
    "        grad_norm_epoch = [0 for i in range(n_epoch)]\n",
    "        for epoch in range(n_epoch):\n",
    "            #Compute full grad\n",
    "            self.zero_grad() # grad = 0\n",
    "            total_loss_epoch[epoch], grad_norm_epoch[epoch] = self.full_loss_grad(criterion)\n",
    "            for i_data in range(self.n_samples):\n",
    "                self.zero_grad()\n",
    "                _, loss = self.partial_grad(criterion)\n",
    "                for para in self.parameters():\n",
    "                    para.data -= lr * para.grad.data\n",
    "\n",
    "        return total_loss_epoch, grad_norm_epoch\n",
    "\n",
    "    \n",
    "########### SVRG Methodes\n",
    "\n",
    "    def partial_grad_svrg(self, self_prev, criterion):\n",
    "        '''Compute partial gradient of f for SVRG backward'''\n",
    "        i = np.random.randint(0, len(self.b))\n",
    "        self.zero_grad() #grad = 0\n",
    "        self_prev.zero_grad() #grad = 0\n",
    "        \n",
    "        #cur_grad\n",
    "        output = self.forward()\n",
    "        loss = criterion(output[i], self.b[i])\n",
    "        loss.backward()\n",
    "        \n",
    "        #prev_grad\n",
    "        output2 = self_prev.forward()\n",
    "        loss2 = criterion(output2[i], self.b[i])\n",
    "        loss2.backward()\n",
    "        \n",
    "        return i, loss, loss2\n",
    "    \n",
    "    def svrg_backward(self, criterion, n_epoch, learning_rate):\n",
    "        \"\"\"\n",
    "        Function to update weights with a SVRG backpropagation\n",
    "        args : loss function, number of epochs, learning rate\n",
    "        return : total_loss_epoch, grad_norm_epoch\n",
    "        \"\"\"\n",
    "        total_loss_epoch = [0 for i in range(n_epoch)]\n",
    "        grad_norm_epoch = [0 for i in range(n_epoch)]\n",
    "        for epoch in range(n_epoch):\n",
    "            running_loss = 0.0\n",
    "            previous_net_sgd = copy.deepcopy(self) #update previous_net_sgd\n",
    "            previous_net_grad = copy.deepcopy(self) #update previous_net_grad\n",
    "            \n",
    "            #Compute full grad\n",
    "            previous_net_grad.zero_grad() # grad = 0\n",
    "            total_loss_epoch[epoch], grad_norm_epoch[epoch] = previous_net_grad.full_loss_grad(criterion)\n",
    "\n",
    "            #Run over the dataset\n",
    "            for i_data in range(self.n_samples):\n",
    "                #Compute cur stoc grad and prev stoc grad\n",
    "                _, cur_loss, prev_loss = self.partial_grad_svrg(previous_net_sgd, criterion)\n",
    "                \n",
    "                #Backward\n",
    "                for param1, param2, param3 in zip(self.parameters(), previous_net_sgd.parameters(), previous_net_grad.parameters()): \n",
    "                    param1.data -= (learning_rate) * (param1.grad.data - param2.grad.data + (1./self.n_samples) * param3.grad.data)\n",
    "                \n",
    "        return total_loss_epoch, grad_norm_epoch"
   ]
  },
  {
   "cell_type": "code",
   "execution_count": 32,
   "metadata": {
    "collapsed": true
   },
   "outputs": [],
   "source": [
    "loss_function = nn.MSELoss()\n",
    "n_samples, n_features = 30, 5\n",
    "net_svrg = Model(n_samples, n_features)\n",
    "net_sgd = copy.deepcopy(net_svrg)\n",
    "net_saga = copy.deepcopy(net_svrg)\n",
    "net_gd = copy.deepcopy(net_svrg)\n",
    "\n",
    "n_epoch = 3000\n",
    "L = 1./(torch.mm(torch.t(net_sgd.A), net_sgd.A).data.norm(2))\n",
    "lr_sgd = L\n",
    "lr_svrg = 1 / (5 * torch.max(torch.mm(torch.t(net_svrg.A), net_svrg.A).sum(1)).data.item())"
   ]
  },
  {
   "cell_type": "code",
   "execution_count": 33,
   "metadata": {},
   "outputs": [
    {
     "name": "stdout",
     "output_type": "stream",
     "text": [
      "GD\n",
      "SGD\n",
      "SVRG\n"
     ]
    }
   ],
   "source": [
    "print('GD')\n",
    "total_loss_epoch_gd, grad_norm_epoch_gd = net_gd.gd_backward(loss_function, n_epoch, lr_sgd)\n",
    "print('SGD')\n",
    "total_loss_epoch_sgd, grad_norm_epoch_sgd = net_sgd.sgd_backward(loss_function, n_epoch, lr_sgd)\n",
    "print('SVRG')\n",
    "total_loss_epoch_svrg, grad_norm_epoch_svrg = net_svrg.svrg_backward(loss_function, n_epoch, lr_svrg)"
   ]
  },
  {
   "cell_type": "code",
   "execution_count": 37,
   "metadata": {},
   "outputs": [
    {
     "data": {
      "image/png": "[encoded data removed]",
      "text/plain": [
       "<Figure size 432x288 with 1 Axes>"
      ]
     },
     "metadata": {
      "needs_background": "light"
     },
     "output_type": "display_data"
    }
   ],
   "source": [
    "fmin = np.min(total_loss_epoch_saga)\n",
    "plt.plot(range(n_epoch), total_loss_epoch_gd - fmin, lw=3, label = \"GD\")\n",
    "plt.plot(range(n_epoch), total_loss_epoch_sgd - fmin, lw=3, label = \"SGD\")\n",
    "plt.plot(range(n_epoch), total_loss_epoch_svrg - fmin, lw=3, label = \"SVRG\")\n",
    "\n",
    "plt.yscale('log')\n",
    "plt.xlabel('iteration')\n",
    "plt.ylabel('loss_function - fmin')\n",
    "plt.title('objective functions evolution')\n",
    "plt.legend()\n",
    "plt.savefig('Compare1.png')\n",
    "plt.show()"
   ]
  },
  {
   "cell_type": "code",
   "execution_count": 38,
   "metadata": {},
   "outputs": [
    {
     "data": {
      "image/png": "[encoded data removed]",
      "text/plain": [
       "<Figure size 432x288 with 1 Axes>"
      ]
     },
     "metadata": {
      "needs_background": "light"
     },
     "output_type": "display_data"
    }
   ],
   "source": [
    "plt.plot(range(n_epoch), grad_norm_epoch_gd, lw=4, label = \"GD\")\n",
    "plt.plot(range(n_epoch), grad_norm_epoch_sgd, lw=4, label = \"SGD\")\n",
    "plt.plot(range(n_epoch), grad_norm_epoch_svrg, lw=4, label = \"SVRG\")\n",
    "\n",
    "plt.yscale('log')\n",
    "plt.xlabel('iteration')\n",
    "plt.ylabel('grad norm')\n",
    "plt.title('grad norm evolution GD')\n",
    "plt.legend()\n",
    "plt.savefig('varience.png')\n",
    "plt.show()"
   ]
  },
  {
   "cell_type": "code",
   "execution_count": 36,
   "metadata": {},
   "outputs": [
    {
     "name": "stdout",
     "output_type": "stream",
     "text": [
      "0.7929729223251343 0.7932474613189697 0.7929729223251343\n"
     ]
    }
   ],
   "source": [
    "print(np.min(total_loss_epoch_gd), np.min(total_loss_epoch_sgd), np.min(total_loss_epoch_svrg))"
   ]
  },
  {
   "cell_type": "code",
   "execution_count": null,
   "metadata": {
    "collapsed": true
   },
   "outputs": [],
   "source": []
  }
 ],
 "metadata": {
  "interpreter": {
   "hash": "2d8da27d2af970156281aebc8ebd8f85d88356f18d44e0fd69b9b640ccef17ed"
  },
  "kernelspec": {
   "display_name": "Python 3.9.7 ('base')",
   "language": "python",
   "name": "python3"
  },
  "language_info": {
   "codemirror_mode": {
    "name": "ipython",
    "version": 3
   },
   "file_extension": ".py",
   "mimetype": "text/x-python",
   "name": "python",
   "nbconvert_exporter": "python",
   "pygments_lexer": "ipython3",
   "version": "3.9.7"
  }
 },
 "nbformat": 4,
 "nbformat_minor": 2
}
